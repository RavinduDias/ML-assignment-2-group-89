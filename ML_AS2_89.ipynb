{
 "cells": [
  {
   "cell_type": "markdown",
   "id": "0c1fdda2",
   "metadata": {},
   "source": [
    "**Machine learning Assingment 2 group 89**"
   ]
  },
  {
   "cell_type": "markdown",
   "id": "6682ec94",
   "metadata": {},
   "source": [
    "s4046373"
   ]
  }
 ],
 "metadata": {
  "language_info": {
   "name": "python"
  }
 },
 "nbformat": 4,
 "nbformat_minor": 5
}
